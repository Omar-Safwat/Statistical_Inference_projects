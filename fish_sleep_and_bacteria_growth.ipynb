{
 "cells": [
  {
   "cell_type": "code",
   "execution_count": 1,
   "id": "2cd6dfd7",
   "metadata": {},
   "outputs": [],
   "source": [
    "import numpy as np\n",
    "import pandas as pd\n",
    "import matplotlib.pyplot as plt\n",
    "import seaborn as sns\n",
    "from hackerStats import dcst # Custom written hacker statistics functions"
   ]
  },
  {
   "cell_type": "code",
   "execution_count": 2,
   "id": "11c0bedc",
   "metadata": {},
   "outputs": [],
   "source": [
    "sns.set()"
   ]
  },
  {
   "cell_type": "markdown",
   "id": "6a6f326c",
   "metadata": {},
   "source": [
    "# Activity of zebrafish and melatonin\n",
    "## EDA\n",
    "\n",
    "Plot an ECDF of active bout length for the mutant and wild type fish for the seventh night of their lives. <br>\n",
    "The bout lengths appear Exponentially distributed, which implies that exiting an active bout to rest is a Poisson process; the fish have no apparent memory about when they became active.<br>"
   ]
  },
  {
   "cell_type": "code",
   "execution_count": 3,
   "id": "7f76ebf5",
   "metadata": {},
   "outputs": [
    {
     "data": {
      "image/png": "[encoded data removed]",
      "text/plain": [
       "<Figure size 640x480 with 1 Axes>"
      ]
     },
     "metadata": {},
     "output_type": "display_data"
    }
   ],
   "source": [
    "# load and prepare data\n",
    "df = pd.read_csv('datasets/gandhi_et_al_bouts.csv', skiprows=4)\n",
    "# Bout lengths for each genotype\n",
    "bout_lengths_wt = df[df['genotype'] == 'wt']['bout_length'].to_numpy()\n",
    "bout_lengths_mut = df[df['genotype'] == 'mut']['bout_length'].to_numpy()\n",
    "bout_lengths_het = df[df['genotype'] == 'het']['bout_length'].to_numpy()\n",
    "# Generate x and y values for plotting ECDFs\n",
    "x_wt, y_wt = dcst.ecdf(bout_lengths_wt)\n",
    "x_mut, y_mut = dcst.ecdf(bout_lengths_mut)\n",
    "\n",
    "# Plot the ECDFs\n",
    "_ = plt.plot(x_wt, y_wt, marker='.', linestyle='none')\n",
    "_ = plt.plot(x_mut, y_mut, marker='.', linestyle='none')\n",
    "\n",
    "# Make a legend, label axes, and show plot\n",
    "_ = plt.legend(('wt', 'mut'))\n",
    "_ = plt.xlabel('active bout length (min)')\n",
    "_ = plt.ylabel('ECDF')\n",
    "plt.show()\n"
   ]
  },
  {
   "cell_type": "markdown",
   "id": "483f18d7",
   "metadata": {},
   "source": [
    "## Parameter estimation: active bout length\n",
    "\n",
    "Compute the mean active bout length for wild type and mutant, with 95% bootstrap confidence interval.<br>\n",
    "The confidence intervals are quite separated."
   ]
  },
  {
   "cell_type": "code",
   "execution_count": 4,
   "id": "6744c7a6",
   "metadata": {},
   "outputs": [
    {
     "name": "stdout",
     "output_type": "stream",
     "text": [
      "\n",
      "wt:  mean = 3.874 min., conf. int. = [3.6, 4.1] min.\n",
      "mut: mean = 6.543 min., conf. int. = [6.1, 7.0] min.\n",
      "\n"
     ]
    }
   ],
   "source": [
    "# Compute mean active bout length\n",
    "mean_wt = np.mean(bout_lengths_wt)\n",
    "mean_mut = np.mean(bout_lengths_mut)\n",
    "\n",
    "# Draw bootstrap replicates\n",
    "bs_reps_wt = dcst.draw_bs_reps(bout_lengths_wt, np.mean, size=10 ** 4)\n",
    "bs_reps_mut = dcst.draw_bs_reps(bout_lengths_mut, np.mean, size=10 ** 4)\n",
    "\n",
    "# Compute 95% confidence intervals\n",
    "conf_int_wt = np.percentile(bs_reps_wt, [2.5, 97.5])\n",
    "conf_int_mut = np.percentile(bs_reps_mut, [2.5, 97.5])\n",
    "\n",
    "# Print the results\n",
    "print(\"\"\"\n",
    "wt:  mean = {0:.3f} min., conf. int. = [{1:.1f}, {2:.1f}] min.\n",
    "mut: mean = {3:.3f} min., conf. int. = [{4:.1f}, {5:.1f}] min.\n",
    "\"\"\".format(mean_wt, *conf_int_wt, mean_mut, *conf_int_mut))"
   ]
  },
  {
   "cell_type": "markdown",
   "id": "c512dcc7",
   "metadata": {},
   "source": [
    "## Permutation test: wild type versus heterozygote\n",
    "\n",
    "Test the hypothesis that the heterozygote and wild type bout lengths are identically distributed using a permutation test.<br>\n",
    "A p-value of around 0.001 suggests that the observed difference in means is unlikely to occur if heterozygotic and wild type fish have active bout lengths that are identically distributed."
   ]
  },
  {
   "cell_type": "code",
   "execution_count": 5,
   "id": "f8f09515",
   "metadata": {},
   "outputs": [
    {
     "name": "stdout",
     "output_type": "stream",
     "text": [
      "p = 0.0014\n"
     ]
    }
   ],
   "source": [
    "# Compute the difference of means: diff_means_exp\n",
    "diff_means_exp = np.mean(bout_lengths_het) - np.mean(bout_lengths_wt)\n",
    "\n",
    "# Draw permutation replicates: perm_reps\n",
    "perm_reps = dcst.draw_perm_reps(bout_lengths_het, bout_lengths_wt, \n",
    "                               dcst.diff_of_means, size=10 ** 4)\n",
    "\n",
    "# Compute the p-value: p-val\n",
    "p_val = np.sum(perm_reps >= diff_means_exp) / len(perm_reps)\n",
    "\n",
    "# Print the result\n",
    "print('p =', p_val)"
   ]
  },
  {
   "cell_type": "markdown",
   "id": "f09e3c00",
   "metadata": {},
   "source": [
    "## Bootstrap hypothesis test\n",
    "\n",
    "We get a result of similar magnitude as the permutation test, though slightly smaller, probably because the heterozygote bout length distribution has a heavier tail to the right."
   ]
  },
  {
   "cell_type": "code",
   "execution_count": 6,
   "id": "aa74caa2",
   "metadata": {},
   "outputs": [
    {
     "name": "stdout",
     "output_type": "stream",
     "text": [
      "p-value = 0.0006\n"
     ]
    }
   ],
   "source": [
    "# Concatenate arrays: bout_lengths_concat\n",
    "bout_lengths_concat = np.concatenate((bout_lengths_wt, bout_lengths_het))\n",
    "\n",
    "# Compute mean of all bout_lengths: mean_bout_length\n",
    "mean_bout_length = np.mean(bout_lengths_concat)\n",
    "\n",
    "# Generate shifted arrays\n",
    "wt_shifted = bout_lengths_wt - np.mean(bout_lengths_wt) + mean_bout_length\n",
    "het_shifted = bout_lengths_het - np.mean(bout_lengths_het) + mean_bout_length\n",
    "\n",
    "# Compute 10,000 bootstrap replicates from shifted arrays\n",
    "bs_reps_wt = dcst.draw_bs_reps(wt_shifted, np.mean, 10 ** 4)\n",
    "bs_reps_het = dcst.draw_bs_reps(het_shifted, np.mean, 10 ** 4)\n",
    "\n",
    "# Get replicates of difference of means: bs_replicates\n",
    "bs_reps = bs_reps_het - bs_reps_wt\n",
    "\n",
    "# Compute and print p-value: p\n",
    "p = np.sum(bs_reps >= diff_means_exp) / len(bs_reps)\n",
    "print('p-value =', p)"
   ]
  },
  {
   "cell_type": "markdown",
   "id": "70a420f5",
   "metadata": {},
   "source": [
    "# Bacteria growth rate\n",
    "## Assessing the growth rate\n",
    "\n",
    "Compute the growth rate and get a 95% confidence interval using pairs bootstrap.<br>\n",
    "Under these conditions, the bacterial mass doubles about every three hours. The error bar is also very tight."
   ]
  },
  {
   "cell_type": "code",
   "execution_count": 7,
   "id": "e9b2bae9",
   "metadata": {},
   "outputs": [
    {
     "name": "stdout",
     "output_type": "stream",
     "text": [
      "\n",
      "Growth rate: 0.2301 1/hour\n",
      "95% conf int: [0.2267, 0.2336] 1/hour\n",
      "\n"
     ]
    }
   ],
   "source": [
    "# Load and prepare the data\n",
    "df = pd.read_csv('datasets/park_bacterial_growth.csv', skiprows=2)\n",
    "bac_area = df[df.columns[0]].to_numpy()\n",
    "t = df[df.columns[1]].to_numpy()\n",
    "# Compute logarithm of the bacterial area: log_bac_area\n",
    "log_bac_area = np.log(bac_area)\n",
    "\n",
    "# Compute the slope and intercept: growth_rate, log_a0\n",
    "growth_rate, log_a0 = np.polyfit(t, log_bac_area, deg=1)\n",
    "\n",
    "# Draw 10,000 pairs bootstrap replicates: growth_rate_bs_reps, log_a0_bs_reps\n",
    "growth_rate_bs_reps, log_a0_bs_reps = dcst.draw_bs_pairs_linreg(\n",
    "    t, log_bac_area, size=10 ** 4\n",
    ")\n",
    "    \n",
    "# Compute confidence intervals: growth_rate_conf_int\n",
    "growth_rate_conf_int = np.percentile(growth_rate_bs_reps, [2.5, 97.5])\n",
    "\n",
    "# Print the result to the screen\n",
    "print(\"\"\"\n",
    "Growth rate: {0:.4f} 1/hour\n",
    "95% conf int: [{1:.4f}, {2:.4f}] 1/hour\n",
    "\"\"\".format(growth_rate, *growth_rate_conf_int))"
   ]
  },
  {
   "cell_type": "markdown",
   "id": "9297334b",
   "metadata": {},
   "source": [
    "## Plotting the growth curve (EDA)\n",
    "Explore the confidence interval of growth rate graphically by plotting several bootstrap lines along with the growth curve.<br>\n",
    "the bootstrap replicates do not stray much. This is due to the exquisitly exponential nature of the bacterial growth under these experimental conditions."
   ]
  },
  {
   "cell_type": "code",
   "execution_count": 8,
   "id": "91ed605d",
   "metadata": {},
   "outputs": [
    {
     "data": {
      "image/png": "[encoded data removed]",
      "text/plain": [
       "<Figure size 640x480 with 1 Axes>"
      ]
     },
     "metadata": {},
     "output_type": "display_data"
    }
   ],
   "source": [
    "# Plot data points in a semilog-y plot with axis labeles\n",
    "_ = plt.semilogy(t, bac_area, marker='.', linestyle='none')\n",
    "\n",
    "# Generate x-values for the bootstrap lines: t_bs\n",
    "t_bs = np.array([0, 14])\n",
    "\n",
    "# Plot the first 100 bootstrap lines\n",
    "for i in range(100):\n",
    "    y = np.exp(growth_rate_bs_reps[i] * t_bs + log_a0_bs_reps[i])\n",
    "    _ = plt.semilogy(t_bs, y, linewidth=0.5, alpha=0.05, color='red')\n",
    "    \n",
    "# Label axes and show plot\n",
    "_ = plt.xlabel('time (hr)')\n",
    "_ = plt.ylabel('area (sq. µm)')\n",
    "plt.show()"
   ]
  }
 ],
 "metadata": {
  "kernelspec": {
   "display_name": "Python 3",
   "language": "python",
   "name": "python3"
  },
  "language_info": {
   "codemirror_mode": {
    "name": "ipython",
    "version": 3
   },
   "file_extension": ".py",
   "mimetype": "text/x-python",
   "name": "python",
   "nbconvert_exporter": "python",
   "pygments_lexer": "ipython3",
   "version": "3.8.5"
  }
 },
 "nbformat": 4,
 "nbformat_minor": 5
}
