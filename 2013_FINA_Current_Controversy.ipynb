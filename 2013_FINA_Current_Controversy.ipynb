{
 "cells": [
  {
   "cell_type": "code",
   "execution_count": 1,
   "id": "48c22f63",
   "metadata": {},
   "outputs": [],
   "source": [
    "import numpy as np\n",
    "import pandas as pd\n",
    "import matplotlib.pyplot as plt\n",
    "import seaborn as sns\n",
    "from hackerStats import dcst # Custom written hacker statistics functions"
   ]
  },
  {
   "cell_type": "code",
   "execution_count": 2,
   "id": "b1a6de6b",
   "metadata": {},
   "outputs": [],
   "source": [
    "sns.set()"
   ]
  },
  {
   "cell_type": "code",
   "execution_count": 3,
   "id": "c8e1e0ec",
   "metadata": {},
   "outputs": [],
   "source": [
    "# Read data\n",
    "df_2013 = pd.read_csv(\"dataSets/2013_FINA.csv\", skiprows=4).dropna()"
   ]
  },
  {
   "cell_type": "markdown",
   "id": "c57d01d8",
   "metadata": {},
   "source": [
    "# Overview\n",
    "\n",
    "Investigate whether the current experienced in the pool of 2013 FINA competition had effect on the swimmers agaisnt it, thus giving a advantage to the outer lanes swimming with the current on one side in favor of the outer lanes on the other side swimming against it.<br>\n",
    "\n",
    "To investigate the effect of the current, the analysis considers only one directional 50 m races, since the pool is 50 m long<br>\n",
    "\n",
    "If the pool is fair with no current, you'd see swimmers swimming in 1 through 3 (low-lanes) win, on average, as many medals as swimmers swimming in lanes 6 through 8 (High-lanes).<br>\n",
    "\n",
    "If there is an equal chance of winning a medal in low-numbered lanes as in high-numbered lanes, then probability of wining medals in lanes 1 through 3 is binomially distributed with $p=0.5$.  \n",
    "\n",
    "In 2013, however, 11 medals were awarded to swimmers in lanes 6 through 8, and only 1 medal in lanes 1 through 3."
   ]
  },
  {
   "cell_type": "code",
   "execution_count": 4,
   "id": "6b86c278",
   "metadata": {},
   "outputs": [
    {
     "name": "stdout",
     "output_type": "stream",
     "text": [
      "Probability of winning 0 or 1 medal out 12 medals in low-numbered lanes:  0.003\n"
     ]
    }
   ],
   "source": [
    "binom_draws = np.random.binomial(12, 0.5, 1000)\n",
    "print(\"Probability of winning 0 or 1 medal out 12 medals in low-numbered lanes: \", np.sum(binom_draws <= 1) / 1000)"
   ]
  },
  {
   "cell_type": "markdown",
   "id": "ec48018f",
   "metadata": {},
   "source": [
    "# Improvement from low to high lane\n",
    "\n",
    "There is little difference between semifinal and final performance of each swimmer (Refer to my notebook \"analysis_2015_FINA\").<br>\n",
    "\n",
    "We can, therefore, neglect any differences due to it being the final versus the semifinal, and compare the data of each swimmer who switched from low lanes in semifinals to high lanes in finals, using data of all strokes.<br>\n",
    "\n",
    "The ECDF Plot of a fractional imporvement metric when moving from a low lane to a high lane for the same swimmer, demonstrates that all but two of the 24 swimmers swam faster in the high numbered lanes."
   ]
  },
  {
   "cell_type": "code",
   "execution_count": 5,
   "id": "01e8cb61",
   "metadata": {},
   "outputs": [],
   "source": [
    "def split_lane_swimtime(df):\n",
    "    \"\"\"\n",
    "    Function returns two numpy arrays recording split swim time for each athlete, \n",
    "    who switched to high lane from low lanes in another round and vice versa\n",
    "    \"\"\"\n",
    "    # Filter swimmers with who swam switched from high lanes in semifinals to low lanes in finals and vice versa, in 50m splitdistances\n",
    "    # Split swim times are only taken from semi-finals and finals\n",
    "\n",
    "    fifty_meters = (df['distance'] == 50)\n",
    "\n",
    "    # Any swimmer who raced semi in low lanes and finals in high lanes\n",
    "    lo_to_hi_conditions =(\n",
    "        ((df['round'] == 'SEM') & (df['lane'].isin([1, 2, 3]))) | \n",
    "        ((df['round'] == 'FIN') & (df['lane'].isin([6, 7, 8])))\n",
    "    )\n",
    "\n",
    "    # Any swimmer who raced finals in low lanes and semi in high lanes\n",
    "    hi_to_lo_conditions =(\n",
    "        ((df['round'] == 'SEM') & (df['lane'].isin([6, 7, 8]))) | \n",
    "        ((df['round'] == 'FIN') & (df['lane'].isin([1, 2, 3])))\n",
    "    )\n",
    "\n",
    "    # Swimmers who were qualified to finals and switched from low to high lanes\n",
    "    switch_lo_to_hi_df = (\n",
    "        df[fifty_meters & lo_to_hi_conditions]\n",
    "        .groupby('athleteid', as_index=False)\n",
    "        .filter(lambda subframe : ('FIN' in subframe['round'].values) and ('SEM' in subframe['round'].values))\n",
    "\n",
    "    )\n",
    "\n",
    "    switch_lo_to_hi_df = pd.pivot_table(switch_lo_to_hi_df, values='splitswimtime', columns='round', index=['athleteid', 'stroke'], aggfunc=np.mean).dropna()\n",
    "\n",
    "    # Swimmers who were qualified to finals and switched from high to low lanes\n",
    "    switch_hi_to_lo_df = (\n",
    "        df[fifty_meters & hi_to_lo_conditions]\n",
    "        .groupby('athleteid', as_index=False)\n",
    "        .filter(lambda subframe : ('FIN' in subframe['round'].values) and ('SEM' in subframe['round'].values))\n",
    "\n",
    "    )\n",
    "\n",
    "    switch_hi_to_lo_df = pd.pivot_table(switch_hi_to_lo_df, values='splitswimtime', columns='round', index=['athleteid', 'stroke'], aggfunc=np.mean).dropna()\n",
    "\n",
    "    swimtime_low_lanes = np.concatenate((switch_lo_to_hi_df['SEM'].to_numpy(), switch_hi_to_lo_df['FIN'].to_numpy()))\n",
    "    swimtime_high_lanes = np.concatenate((switch_lo_to_hi_df['FIN'].to_numpy(), switch_hi_to_lo_df['SEM'].to_numpy()))\n",
    "\n",
    "    return swimtime_low_lanes, swimtime_high_lanes"
   ]
  },
  {
   "cell_type": "code",
   "execution_count": 6,
   "id": "86346c6e",
   "metadata": {
    "scrolled": false
   },
   "outputs": [
    {
     "data": {
      "image/png": "[encoded data removed]",
      "text/plain": [
       "<Figure size 640x480 with 1 Axes>"
      ]
     },
     "metadata": {},
     "output_type": "display_data"
    }
   ],
   "source": [
    "swimtime_low_lanes, swimtime_high_lanes = split_lane_swimtime(df_2013) \n",
    "# Compute the fractional improvement of being in high lane: f\n",
    "f = (swimtime_low_lanes - swimtime_high_lanes) / swimtime_low_lanes\n",
    "\n",
    "# Make x and y values for ECDF: x, y\n",
    "x, y = dcst.ecdf(f)\n",
    "\n",
    "# Plot the ECDFs as dots\n",
    "plt.plot(x, y, marker='.', linestyle=\"none\")\n",
    "\n",
    "# Label the axes and show the plot\n",
    "plt.xlabel('Fractional improvement')\n",
    "plt.ylabel('ECDF')\n",
    "plt.show()"
   ]
  },
  {
   "cell_type": "markdown",
   "id": "b0ea07f6",
   "metadata": {},
   "source": [
    "## Estimation of mean improvement"
   ]
  },
  {
   "cell_type": "code",
   "execution_count": 7,
   "id": "ff068924",
   "metadata": {},
   "outputs": [
    {
     "name": "stdout",
     "output_type": "stream",
     "text": [
      "\n",
      "mean frac. diff.: 0.00962\n",
      "95% conf int of mean frac. diff.: [0.00645, 0.01249]\n"
     ]
    }
   ],
   "source": [
    "# Compute the mean difference: f_mean\n",
    "f_mean = np.mean(f)\n",
    "\n",
    "# Draw 10,000 bootstrap replicates: bs_reps\n",
    "bs_reps = dcst.draw_bs_reps(f, np.mean, 10 ** 4)\n",
    "\n",
    "# Compute 95% confidence interval: conf_int\n",
    "conf_int = np.percentile(bs_reps, [2.5, 97.5])\n",
    "\n",
    "# Print the result\n",
    "print(\"\"\"\n",
    "mean frac. diff.: {0:.5f}\n",
    "95% conf int of mean frac. diff.: [{1:.5f}, {2:.5f}]\"\"\".format(f_mean, *conf_int))"
   ]
  },
  {
   "cell_type": "markdown",
   "id": "825fb4ce",
   "metadata": {},
   "source": [
    "## Hypothesis test: Does lane assignment affect performance?\n",
    "\n",
    "To see whether lane assignment really does affect performance, then next code-cell performs a bootstrap hypothesis test with a null hypothesis that the mean fractional improvement going from low-numbered lanes to high-numbered lanes is zero, and compares it to the mean value obtained above."
   ]
  },
  {
   "cell_type": "code",
   "execution_count": 8,
   "id": "4bc37fb7",
   "metadata": {},
   "outputs": [
    {
     "name": "stdout",
     "output_type": "stream",
     "text": [
      "p = 0.0\n"
     ]
    }
   ],
   "source": [
    "# Shift the metric array so that it would have a mean of zero\n",
    "f_shift = f - f_mean\n",
    "\n",
    "# Draw 100,000 bootstrap replicates of the mean: bs_reps\n",
    "bs_reps = dcst.draw_bs_reps(f_shift, np.mean, 10 ** 5)\n",
    "\n",
    "# Compute and report the p-value\n",
    "p_val = np.sum(bs_reps >= f_mean) / 100000\n",
    "print('p =', p_val)"
   ]
  },
  {
   "cell_type": "markdown",
   "id": "70c3ca92",
   "metadata": {},
   "source": [
    "## Did the 2015 event have this problem?\n",
    "\n",
    "Both the confidence interval and the p-value suggest that there was no lane bias in 2015."
   ]
  },
  {
   "cell_type": "code",
   "execution_count": 9,
   "id": "ac0d9a40",
   "metadata": {},
   "outputs": [],
   "source": [
    "# Load 2015 FINA data\n",
    "df_2015 = pd.read_csv(\"datasets/2015_FINA.csv\", skiprows=4).dropna() \n",
    "swimtime_low_lanes_15, swimtime_high_lanes_15 = split_lane_swimtime(df_2015)"
   ]
  },
  {
   "cell_type": "code",
   "execution_count": 10,
   "id": "b2f1f453",
   "metadata": {},
   "outputs": [
    {
     "name": "stdout",
     "output_type": "stream",
     "text": [
      "\n",
      "mean frac. diff.: 0.00136\n",
      "95% conf int of mean frac. diff.: [-0.00280, 0.00507]\n",
      "p-value: 0.26223\n"
     ]
    }
   ],
   "source": [
    "# Compute f and its mean\n",
    "f = (swimtime_low_lanes_15 - swimtime_high_lanes_15) / swimtime_low_lanes_15\n",
    "f_mean = np.mean(f)\n",
    "\n",
    "# Draw 10,000 bootstrap replicates\n",
    "bs_reps = dcst.draw_bs_reps(f, np.mean, 10 ** 4)\n",
    "\n",
    "# Compute 95% confidence interval\n",
    "conf_int = np.percentile(bs_reps, [2.5, 97.5])\n",
    "\n",
    "# Shift f\n",
    "f_shift = f - f_mean\n",
    "\n",
    "# Draw 100,000 bootstrap replicates of the mean\n",
    "bs_reps = dcst.draw_bs_reps(f_shift, np.mean, 10 ** 5)\n",
    "\n",
    "# Compute the p-value\n",
    "p_val = np.sum(bs_reps >= f_mean) / 100000\n",
    "\n",
    "# Print the results\n",
    "print(\"\"\"\n",
    "mean frac. diff.: {0:.5f}\n",
    "95% conf int of mean frac. diff.: [{1:.5f}, {2:.5f}]\n",
    "p-value: {3:.5f}\"\"\".format(f_mean, *conf_int, p_val))"
   ]
  }
 ],
 "metadata": {
  "kernelspec": {
   "display_name": "Python 3",
   "language": "python",
   "name": "python3"
  },
  "language_info": {
   "codemirror_mode": {
    "name": "ipython",
    "version": 3
   },
   "file_extension": ".py",
   "mimetype": "text/x-python",
   "name": "python",
   "nbconvert_exporter": "python",
   "pygments_lexer": "ipython3",
   "version": "3.8.5"
  }
 },
 "nbformat": 4,
 "nbformat_minor": 5
}
